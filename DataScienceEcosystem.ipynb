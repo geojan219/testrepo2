{
 "cells": [
  {
   "cell_type": "markdown",
   "id": "c0d99a0b-7051-4227-8c05-d6e29dfbd9de",
   "metadata": {},
   "source": [
    "# Data Science Tools and Ecosystem"
   ]
  },
  {
   "cell_type": "markdown",
   "id": "775fd3c5-5bef-45c1-a117-ae2facdef630",
   "metadata": {},
   "source": [
    "In this notebook, Data Science Tools and Ecosystem are cummarized."
   ]
  },
  {
   "cell_type": "markdown",
   "id": "23a4349d-fd3b-4c4d-8369-c432e321e8e7",
   "metadata": {},
   "source": [
    "**Objective:**"
   ]
  },
  {
   "cell_type": "markdown",
   "id": "1e06e770-a8ea-44b1-8b10-55d40023e5d0",
   "metadata": {},
   "source": [
    "- Explore popular languages for Data Science.\n",
    "- Understand key concepts of machine learning and its applications.\n",
    "- Learn how to manipulate and analyze data using pandas.\n",
    "- Gain insights into data visualization technique using Matplotlib and seaborn.\n",
    "- Get hands-on experience with Jupyter Notebooks for data analysis."
   ]
  },
  {
   "cell_type": "markdown",
   "id": "e44a85d7-be36-44cf-92fb-274fd47b1031",
   "metadata": {},
   "source": [
    "Some of the popular languages that Data Scientists use are:\n",
    "1. Python\n",
    "2. R\n",
    "3. SQL\n",
    "4. Java"
   ]
  },
  {
   "cell_type": "markdown",
   "id": "1e247621-7847-4a22-9b6d-b760ca4b8bb5",
   "metadata": {},
   "source": [
    "Some of the commonly used libraries used by Data Scientist include:\n",
    "1. NumPy\n",
    "2. Panda\n",
    "3. Scikit-learn\n",
    "4. Matplotlib\n",
    "5. TensorFlow"
   ]
  },
  {
   "cell_type": "markdown",
   "id": "73106b5a-cd28-4c1f-b2ad-1f9d3bb2c0ea",
   "metadata": {},
   "source": [
    "|Data Science Tools|\n",
    "|------------------|\n",
    "|Jupyter Notebooks|\n",
    "|RStudio|\n",
    "|VS Code with Python|\n"
   ]
  },
  {
   "cell_type": "markdown",
   "id": "643aa62f-5eca-4cdd-bfeb-f264ae518b0c",
   "metadata": {},
   "source": [
    "### Below are a few examples of evaluating Expressions in Python"
   ]
  },
  {
   "cell_type": "markdown",
   "id": "bfe81f55-8dc1-4194-8715-dc812adb1241",
   "metadata": {
    "tags": []
   },
   "source": [
    "This is a simple arithmetic expression to multiply then add integers"
   ]
  },
  {
   "cell_type": "code",
   "execution_count": 3,
   "id": "0e53c66b-1b7c-4e8f-890f-0564fd5bf353",
   "metadata": {
    "tags": []
   },
   "outputs": [
    {
     "data": {
      "text/plain": [
       "17"
      ]
     },
     "execution_count": 3,
     "metadata": {},
     "output_type": "execute_result"
    }
   ],
   "source": [
    "(3*4)+5"
   ]
  },
  {
   "cell_type": "markdown",
   "id": "69efd22c-7119-418a-acbb-f1550a77e33e",
   "metadata": {},
   "source": [
    "This will convert 200 minutes to hours by dividing by 60"
   ]
  },
  {
   "cell_type": "code",
   "execution_count": 6,
   "id": "affb7f0f-4506-45cf-90b8-d083e37064a5",
   "metadata": {
    "tags": []
   },
   "outputs": [
    {
     "data": {
      "text/plain": [
       "3.3333333333333335"
      ]
     },
     "execution_count": 6,
     "metadata": {},
     "output_type": "execute_result"
    }
   ],
   "source": [
    "minutes = 200\n",
    "hours = 60\n",
    "minutes/hours"
   ]
  },
  {
   "cell_type": "markdown",
   "id": "5a88eaab-a7d9-48ca-b566-9ecd5e3312ec",
   "metadata": {},
   "source": [
    "## Author\n",
    "Jane George"
   ]
  },
  {
   "cell_type": "code",
   "execution_count": null,
   "id": "6866f269-1988-4c02-a8ce-ab5a7d19154d",
   "metadata": {},
   "outputs": [],
   "source": []
  }
 ],
 "metadata": {
  "kernelspec": {
   "display_name": "Python",
   "language": "python",
   "name": "conda-env-python-py"
  },
  "language_info": {
   "codemirror_mode": {
    "name": "ipython",
    "version": 3
   },
   "file_extension": ".py",
   "mimetype": "text/x-python",
   "name": "python",
   "nbconvert_exporter": "python",
   "pygments_lexer": "ipython3",
   "version": "3.7.12"
  }
 },
 "nbformat": 4,
 "nbformat_minor": 5
}
